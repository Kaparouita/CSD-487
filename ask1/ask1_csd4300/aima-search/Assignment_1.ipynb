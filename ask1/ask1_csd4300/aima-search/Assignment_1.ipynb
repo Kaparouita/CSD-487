{
 "cells": [
  {
   "cell_type": "markdown",
   "metadata": {},
   "source": [
    "### 8-puzzle\n",
    "\n",
    "In this notebook, we will be writing the script that solves the 8 puzzle problem.\n",
    "\n",
    "Before moving on, please review search.ipynb!\n",
    "\n",
    "BUT before everything else....tell us who you are:"
   ]
  },
  {
   "cell_type": "markdown",
   "metadata": {},
   "source": [
    "### Student Number = csd4300\n",
    "\n",
    "### Name = Stivaktakis Giorgos"
   ]
  },
  {
   "cell_type": "code",
   "execution_count": 1,
   "metadata": {},
   "outputs": [],
   "source": [
    "from search import *\n",
    "import time\n",
    "import random\n",
    "import timeit"
   ]
  },
  {
   "cell_type": "code",
   "execution_count": 2,
   "metadata": {},
   "outputs": [],
   "source": [
    "class EightPuzzle(Problem):\n",
    "    \"\"\" The problem of sliding tiles numbered from 1 to 8 on a 3x3 board, where one of the\n",
    "    squares is a blank. A state is represented as a tuple of length 9, where  element at\n",
    "    index i represents the tile number  at index i (0 if it's an empty square) \"\"\"\n",
    "    \n",
    "    max_actions = 10000000\n",
    "    current_actions = 0\n",
    "    \n",
    "    def __init__(self, initial, goal=(1, 2, 3, 4, 5, 6, 7, 8, 0)):\n",
    "        \"\"\" Define goal state and initialize a problem \"\"\"\n",
    "        super().__init__(initial, goal)\n",
    "        \n",
    "\n",
    "    def find_blank_square(self, state):\n",
    "        \"\"\"Return the index of the blank square in a given state\"\"\"\n",
    "\n",
    "        return state.index(0)\n",
    "\n",
    "    def actions(self, state):\n",
    "        \"\"\" Return the actions that can be executed in the given state.\n",
    "        The result would be a list, since there are only four possible actions\n",
    "        in any given state of the environment \"\"\"\n",
    "\n",
    "        possible_actions = ['UP', 'DOWN', 'LEFT', 'RIGHT']\n",
    "        index_blank_square = self.find_blank_square(state)\n",
    "        \n",
    "        if index_blank_square % 3 == 0:\n",
    "            possible_actions.remove('LEFT')\n",
    "        if index_blank_square < 3:\n",
    "            possible_actions.remove('UP')\n",
    "        if index_blank_square % 3 == 2:\n",
    "            possible_actions.remove('RIGHT')\n",
    "        if index_blank_square > 5:\n",
    "            possible_actions.remove('DOWN')\n",
    "\n",
    "        return possible_actions\n",
    "\n",
    "    def result(self, state, action):\n",
    "        \"\"\" Given state and action, return a new state that is the result of the action.\n",
    "        Action is assumed to be a valid action in the state \"\"\"\n",
    "\n",
    "        # blank is the index of the blank square\n",
    "        blank = self.find_blank_square(state)\n",
    "        new_state = list(state)\n",
    "\n",
    "        delta = {'UP': -3, 'DOWN': 3, 'LEFT': -1, 'RIGHT': 1}\n",
    "        neighbor = blank + delta[action]\n",
    "        new_state[blank], new_state[neighbor] = new_state[neighbor], new_state[blank]\n",
    "        self.current_actions +=1\n",
    "        return tuple(new_state)\n",
    "\n",
    "    def goal_test(self, state):\n",
    "        \"\"\" Given a state, return True if state is a goal state or False, otherwise \"\"\"\n",
    "        \n",
    "        return (state == self.goal) or (self.current_actions>self.max_actions)\n",
    "\n",
    "    def check_solvability(self, state):\n",
    "        \"\"\" Checks if the given state is solvable \"\"\"\n",
    "\n",
    "        inversion = 0\n",
    "        for i in range(len(state)):\n",
    "            for j in range(i + 1, len(state)):\n",
    "                if (state[i] > state[j]) and state[i] != 0 and state[j] != 0:\n",
    "                    inversion += 1\n",
    "\n",
    "        return inversion % 2 == 0\n",
    "\n",
    "    def h(self, node):\n",
    "        \"\"\" Return the heuristic value for a given state. Default heuristic function used is \n",
    "        h(n) = number of misplaced tiles \"\"\"\n",
    "\n",
    "        return sum(s != g for (s, g) in zip(node.state, self.goal))\n"
   ]
  },
  {
   "cell_type": "code",
   "execution_count": 3,
   "metadata": {},
   "outputs": [
    {
     "name": "stdout",
     "output_type": "stream",
     "text": [
      "(1, 2, 3, 4, 5, 6, 7, 8, 0)\n",
      "(7, 0, 4, 2, 1, 8, 6, 3, 5)\n"
     ]
    }
   ],
   "source": [
    "goal = (1, 2, 3, 4, 5, 6, 7, 8, 0)\n",
    "initial_state =tuple(random.sample(list(goal),9))\n",
    "print(goal)\n",
    "print(initial_state)"
   ]
  },
  {
   "cell_type": "code",
   "execution_count": 4,
   "metadata": {},
   "outputs": [],
   "source": [
    "import time\n",
    "\n",
    "def run_singleTest(initial_state):\n",
    "    # your function needs to take as input the object of our problem\n",
    "    # and return all the necessary information of the solution per algorithm for comparison\n",
    "    puzzle = EightPuzzle(initial_state)\n",
    "    results = []\n",
    "    \n",
    "    ########################################################\n",
    "    #  add code here to test in a similar fashion as below #\n",
    "    #  4  algorithms for the same initial_state            #\n",
    "    ########################################################\n",
    "    algorithms_to_test = [\n",
    "       ('Astar search',astar_search),\n",
    "       ('Breadth First Tree Search',breadth_first_tree_search),\n",
    "         ('Depth First Tree Search',depth_first_tree_search),\n",
    "         ('Depth Limited Search',depth_limited_search),\n",
    "\n",
    "        # Add more algorithms here as needed\n",
    "    ]\n",
    "    \n",
    "    for name,func in algorithms_to_test:\n",
    "        # IMPORTANT must add this before each algorithm call to reset actions\n",
    "        puzzle.current_actions = 0\n",
    "        # start timing your execution\n",
    "        start_time = time.time()\n",
    "        \n",
    "        # get final state\n",
    "        final_state = func(puzzle)\n",
    "        success = final_state.state == goal # check if final state is goal state\n",
    "        print(final_state)\n",
    "        # calculate time\n",
    "        end_time = time.time() - start_time\n",
    "        \n",
    "        # save important parameters\n",
    "        algorithm_results = {\n",
    "            'Algorithm': name,\n",
    "            'Initial State': initial_state,\n",
    "            'Final_State': final_state,\n",
    "            'Time': end_time,\n",
    "            'Success': success,\n",
    "        }\n",
    "        # add algorithm results to returning parameter\n",
    "        results.append(algorithm_results)\n",
    "\n",
    "\n",
    "    return results\n"
   ]
  },
  {
   "cell_type": "code",
   "execution_count": 5,
   "metadata": {},
   "outputs": [],
   "source": [
    "solvable = False\n",
    "while not solvable:\n",
    "    initial_state =tuple(random.sample(list(goal),9))\n",
    "    solvable = EightPuzzle(initial_state).check_solvability(initial_state)"
   ]
  },
  {
   "cell_type": "code",
   "execution_count": 55,
   "metadata": {},
   "outputs": [
    {
     "name": "stdout",
     "output_type": "stream",
     "text": [
      "<Node (1, 2, 3, 4, 5, 6, 7, 8, 0)>\n",
      "(1, 2, 3, 4, 5, 6, 7, 8, 0)\n",
      "Initial State: (5, 4, 0, 1, 2, 8, 6, 7, 3)\n",
      "Algorithm: Astar search failed , Execution Time: 7.4\n",
      "Resulting solution: ['LEFT', 'DOWN', 'RIGHT', 'UP', 'LEFT', 'LEFT', 'DOWN', 'RIGHT', 'DOWN', 'LEFT', 'UP', 'RIGHT', 'RIGHT', 'DOWN', 'LEFT', 'LEFT', 'UP', 'RIGHT', 'UP', 'RIGHT', 'DOWN', 'DOWN'] ending in board: <Node (1, 2, 3, 4, 5, 6, 7, 8, 0)>\n"
     ]
    }
   ],
   "source": [
    "results = run_singleTest(initial_state)\n",
    "\n",
    "\n",
    "print(\"Initial State: \" + str(initial_state))\n",
    "for result in results:\n",
    "    final_state = list(result['Final_State'].state)\n",
    "    if result['Final_State'] == goal:   \n",
    "        print('Algorithm: ' + str(result['Algorithm']) + ' succeeded , Execution Time: ' + str(round(result['Time'],2)))\n",
    "        print('Resulting solution: ' + str(result['Final_State'].solution()) + ' ending in board: ' + str(result['Final_State']))\n",
    "    else:\n",
    "        print('Algorithm: ' + str(result['Algorithm']) + ' failed , Execution Time: ' + str(round(result['Time'],2)))\n",
    "        print('Resulting solution: ' + str(result['Final_State'].solution()) + ' ending in board: ' + str(result['Final_State']))\n"
   ]
  },
  {
   "cell_type": "markdown",
   "metadata": {},
   "source": [
    "After filling in the function that conducts a comparison amongst algorithms for a single intial state.\n",
    "Run 100 comparisons for random SOLVABLE initial states"
   ]
  },
  {
   "cell_type": "code",
   "execution_count": 6,
   "metadata": {},
   "outputs": [
    {
     "name": "stdout",
     "output_type": "stream",
     "text": [
      "Algorithm: Astar search\n",
      "Success Rate: 100.00%\n",
      "Average Execution Time: 0.19 seconds\n",
      "\n",
      "Algorithm: Breadth First Tree Search\n",
      "Success Rate: 0.00%\n",
      "Average Execution Time: 64.13 seconds\n",
      "\n",
      "Algorithm: Depth First Tree Search\n",
      "Success Rate: 0.00%\n",
      "Average Execution Time: 60.73 seconds\n",
      "\n",
      "Algorithm: Depth Limited Search\n",
      "Success Rate: 0.00%\n",
      "Average Execution Time: 23.14 seconds\n",
      "\n"
     ]
    }
   ],
   "source": [
    "num_tests = 100\n",
    "\n",
    "# Define a dictionary to collect data for each algorithm\n",
    "algorithm_data = {\n",
    "    'Astar search': [],\n",
    "    'Breadth First Tree Search': [],\n",
    "    'Depth First Tree Search': [],\n",
    "    'Depth Limited Search': [],\n",
    "}\n",
    "\n",
    "for _ in range(num_tests):\n",
    "    results = run_singleTest(initial_state)\n",
    "\n",
    "    for result in results:\n",
    "        algorithm = result['Algorithm']  # Algorithm name\n",
    "        success = result['Success'] # Success flag\n",
    "        execution_time = round(result['Time'], 2)  # Execution time\n",
    "\n",
    "        # Collect data for each algorithm\n",
    "        algorithm_data[algorithm].append({\n",
    "            'success': success,\n",
    "            'execution_time': execution_time,\n",
    "        })\n",
    "\n",
    "# Analyze the collected data\n",
    "for algorithm, data in algorithm_data.items():\n",
    "    success_rate = sum(1 for entry in data if entry['success']) / num_tests\n",
    "    avg_execution_time = sum(entry['execution_time'] for entry in data) / num_tests\n",
    "\n",
    "    print(f\"Algorithm: {algorithm}\")\n",
    "    print(f\"Success Rate: {success_rate:.2%}\")\n",
    "    print(f\"Average Execution Time: {avg_execution_time:.2f} seconds\")\n",
    "    print()\n",
    "\n"
   ]
  }
 ],
 "metadata": {
  "kernelspec": {
   "display_name": "Python 3 (ipykernel)",
   "language": "python",
   "name": "python3"
  },
  "language_info": {
   "codemirror_mode": {
    "name": "ipython",
    "version": 3
   },
   "file_extension": ".py",
   "mimetype": "text/x-python",
   "name": "python",
   "nbconvert_exporter": "python",
   "pygments_lexer": "ipython3",
   "version": "3.11.6"
  }
 },
 "nbformat": 4,
 "nbformat_minor": 4
}
