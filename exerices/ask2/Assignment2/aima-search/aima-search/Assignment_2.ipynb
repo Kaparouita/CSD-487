{
 "cells": [
  {
   "cell_type": "markdown",
   "metadata": {},
   "source": [
    "# SUDOKU\n",
    "\n",
    "Student Number = 4300\n",
    "\n",
    "Name = Stivaktakis Giorgos"
   ]
  },
  {
   "cell_type": "code",
   "execution_count": 5,
   "metadata": {},
   "outputs": [
    {
     "ename": "ModuleNotFoundError",
     "evalue": "No module named 'qpsolvers'",
     "output_type": "error",
     "traceback": [
      "\u001b[0;31m---------------------------------------------------------------------------\u001b[0m",
      "\u001b[0;31mModuleNotFoundError\u001b[0m                       Traceback (most recent call last)",
      "\u001b[1;32m/home/giorgis/me/csd/487/ask2/Assignment2/aima-search/aima-search/Assignment_2.ipynb Cell 2\u001b[0m line \u001b[0;36m4\n\u001b[1;32m      <a href='vscode-notebook-cell:/home/giorgis/me/csd/487/ask2/Assignment2/aima-search/aima-search/Assignment_2.ipynb#W1sZmlsZQ%3D%3D?line=1'>2</a>\u001b[0m \u001b[39mfrom\u001b[39;00m \u001b[39msearch\u001b[39;00m \u001b[39mimport\u001b[39;00m \u001b[39m*\u001b[39m\n\u001b[1;32m      <a href='vscode-notebook-cell:/home/giorgis/me/csd/487/ask2/Assignment2/aima-search/aima-search/Assignment_2.ipynb#W1sZmlsZQ%3D%3D?line=2'>3</a>\u001b[0m get_ipython()\u001b[39m.\u001b[39mrun_line_magic(\u001b[39m'\u001b[39m\u001b[39mmatplotlib\u001b[39m\u001b[39m'\u001b[39m, \u001b[39m'\u001b[39m\u001b[39minline\u001b[39m\u001b[39m'\u001b[39m)\n\u001b[0;32m----> <a href='vscode-notebook-cell:/home/giorgis/me/csd/487/ask2/Assignment2/aima-search/aima-search/Assignment_2.ipynb#W1sZmlsZQ%3D%3D?line=3'>4</a>\u001b[0m \u001b[39mfrom\u001b[39;00m \u001b[39mnotebook\u001b[39;00m \u001b[39mimport\u001b[39;00m \u001b[39m*\u001b[39m\n\u001b[1;32m      <a href='vscode-notebook-cell:/home/giorgis/me/csd/487/ask2/Assignment2/aima-search/aima-search/Assignment_2.ipynb#W1sZmlsZQ%3D%3D?line=4'>5</a>\u001b[0m \u001b[39m# Hide warnings in the matplotlib sections\u001b[39;00m\n\u001b[1;32m      <a href='vscode-notebook-cell:/home/giorgis/me/csd/487/ask2/Assignment2/aima-search/aima-search/Assignment_2.ipynb#W1sZmlsZQ%3D%3D?line=5'>6</a>\u001b[0m \u001b[39mimport\u001b[39;00m \u001b[39mwarnings\u001b[39;00m\n",
      "File \u001b[0;32m~/me/csd/487/ask2/Assignment2/aima-search/aima-search/notebook.py:15\u001b[0m\n\u001b[1;32m     12\u001b[0m \u001b[39mfrom\u001b[39;00m \u001b[39mmatplotlib\u001b[39;00m \u001b[39mimport\u001b[39;00m lines\n\u001b[1;32m     14\u001b[0m \u001b[39mfrom\u001b[39;00m \u001b[39mgames\u001b[39;00m \u001b[39mimport\u001b[39;00m TicTacToe, alpha_beta_player, random_player, Fig52Extended\n\u001b[0;32m---> 15\u001b[0m \u001b[39mfrom\u001b[39;00m \u001b[39mlearning\u001b[39;00m \u001b[39mimport\u001b[39;00m DataSet\n\u001b[1;32m     16\u001b[0m \u001b[39mfrom\u001b[39;00m \u001b[39mlogic\u001b[39;00m \u001b[39mimport\u001b[39;00m parse_definite_clause, standardize_variables, unify_mm, subst\n\u001b[1;32m     17\u001b[0m \u001b[39mfrom\u001b[39;00m \u001b[39msearch\u001b[39;00m \u001b[39mimport\u001b[39;00m GraphProblem, romania_map\n",
      "File \u001b[0;32m~/me/csd/487/ask2/Assignment2/aima-search/aima-search/learning.py:7\u001b[0m\n\u001b[1;32m      4\u001b[0m \u001b[39mfrom\u001b[39;00m \u001b[39mcollections\u001b[39;00m \u001b[39mimport\u001b[39;00m defaultdict\n\u001b[1;32m      5\u001b[0m \u001b[39mfrom\u001b[39;00m \u001b[39mstatistics\u001b[39;00m \u001b[39mimport\u001b[39;00m stdev\n\u001b[0;32m----> 7\u001b[0m \u001b[39mfrom\u001b[39;00m \u001b[39mqpsolvers\u001b[39;00m \u001b[39mimport\u001b[39;00m solve_qp\n\u001b[1;32m      9\u001b[0m \u001b[39mfrom\u001b[39;00m \u001b[39mprobabilistic_learning\u001b[39;00m \u001b[39mimport\u001b[39;00m NaiveBayesLearner\n\u001b[1;32m     10\u001b[0m \u001b[39mfrom\u001b[39;00m \u001b[39mutils\u001b[39;00m \u001b[39mimport\u001b[39;00m \u001b[39m*\u001b[39m\n",
      "\u001b[0;31mModuleNotFoundError\u001b[0m: No module named 'qpsolvers'"
     ]
    }
   ],
   "source": [
    "from csp import *\n",
    "from search import *\n",
    "%matplotlib inline\n",
    "from notebook import *\n",
    "# Hide warnings in the matplotlib sections\n",
    "import warnings\n",
    "warnings.filterwarnings(\"ignore\")\n",
    "from sudokuParam import *\n",
    "from sudoku_puzzles import *\n",
    "# psource(Sudoku)"
   ]
  },
  {
   "cell_type": "code",
   "execution_count": 7,
   "metadata": {},
   "outputs": [
    {
     "name": "stdout",
     "output_type": "stream",
     "text": [
      "['..9.....3.....9...7.....5.6..65..4.....3......28......3..75.6..6...........12.3.8', '.4..5..67...1...4....2.....1..8..3........2...6...........4..5.3.....8..2........', '..........72.6.1....51...82.8...13..4.........37.9..1.....238..5.4..9.........79.', '1....7.9..3..2...8..96..5....53..9...1..8...26....4...3......1..4......7..7...3..', '85...24..72......9..4.........1.7..23.5...9...4...........8..7..17..........36.4.', '1.....3.8.6.4..............2.3.1...........958.........5.6...7.....8.2...4.......', '.4.5.....8...9..3..76.2.....146..........9..7.....36....1..4.5..6......3..71..2..', '1.....7.9.4...72..8.........7..1..6.3.......5.6..4..2.........8..53...7.7.2....46', '963......1....8......2.5....4.8......1....7......3..257......3...9.2.4.7......9..', '1.....3.8.7.4..............2.3.1...........958.........5.6...7.....8.2...4.......', '7.....4...2..7..8...3..8.799..5..3...6..2..9...1.97..6...3..9...3..4..6...9..1.35', '...52.....9...3..4......7...1.....4..8..453..6...1...87.2........8....32.4..8..1.', '.....2.......7...17..3...9.8..7......2.89.6...13..6....9..5.824.....891..........', '6..3.2....4.....1..........7.26............543.........8.15........4.2........7..', '..5..8..18......9.......78....4.....64....9......53..2.6.........138..5....9.714.', '6.....7.3.4.8.................5.4.8.7..2.....1.3.......2.....5.....7.9......1....', '.2....5938..5..46.94..6...8..2.3.....6..8.73.7..2.........4.38..7....6..........5', '.47.2....8....1....3....9.2.....5...6..81..5.....4.....7....3.4...9...1.4..27.8..', '3...8.......7....51..............36...2..4....7...........6.13..452...........8..', '..7..8.....6.2.3...3......9.1..5..6.....1.....7.9....2........4.83..4...26....51.', '9.4..5...25.6..1..31......8.7...9...4..26......147....7.......2...3..8.6.4.....9.', '7..1523........92....3.....1....47.8.......6............9...5.6.4.9.7...8....6.1.', '.......4...2..4..1.7..5..9...3..7....4..6....6..1..8...2....1..85.9...6.....8...3', '1....6.8..64..........4...7....9.6...7.4..5..5...7.1...5....32.3....8...4........', '.2.......3.5.62..9.68...3...5..........64.8.2..47..9....3.....1.....6...17.43....', '6.2.5.........4.3..........43...8....1....2........7..5..27...........81...6.....', '....6...4..6.3....1..4..5.77.....8.5...8.....6.8....9...2.9....4....32....97..1..', '......8.17..2........5.6......7...5..1....3...8.......5......2..3..8....6...4....', '....1.78.5....9..........4..2..........6....3.74.8.........3..2.8..4..1.6..5.....', '12..4......5.69.1...9...5.........7.7...52.9..3......2.9.6...5.4..9..8.1..3...9.4', '45.....3....8.1....9...........5..9.2..7.....8.........1..4..........7.2...6..8..', '..........5724...98....947...9..3...5..9..12...3.1.9...6....25....56.....7......6', '...5.3.......6.7..5.8....1636..2.......4.1.......3...567....2.8..4.7.......2..5..', '6.2.5.........3.4..........43...8....1....2........7..5..27...........81...6.....', '..53.....8......2..7..1.5..4....53...1..7...6..32...8..6.5....9..4....3......97..', '6..3.2....5.....1..........7.26............543.........8.15........4.2........7..', '...36....85.......9.4..8........68.........17..9..45...1.5...6.4....9..2.....3...', '......8.16..2........7.5......6...2..1....3...8.......2......7..4..8....5...3....', '15.3......7..4.2....4.72.....8.........9..1.8.1..8.79......38...........6....7423', '4.....8.5.3..........7......2.....6.....8.4......1.......6.3.7.5..2.....1.4......', '.5..9....1.....6.....3.8.....8.4...9514.......3....2..........4.8...6..77..15..6.', '..247..58..............1.4.....2...9528.9.4....9...1.........3.3....75..685..2...', '.8..4....3......1........2...5...4.69..1..8..2...........3.9....6....5.....2.....', '4.....8.5.3..........7......2.....6.....5.4......1.......6.3.7.5..2.....1.9......', '...5...........5.697.....2...48.2...25.1...3..8..3.........4.7..13.5..9..2...31..', '2....1.9..1..3.7..9..8...2.......85..6.4.........7...3.2.3...6....5.....1.9...2.5', '4...7.1....19.46.5.....1......7....2..2.3....847..6....14...8.6.2....3..6...9....', '...57..3.1......2.7...234......8...4..7..4...49....6.5.42...3.....7..9....18.....', '48.3............71.2.......7.5....6....2..8.............1.76...3.....4......5....', '......4.18..2........6.7......8...6..4....3...1.......6......2..5..1....7...3....']\n"
     ]
    }
   ],
   "source": [
    "import random\n",
    "from sudoku_puzzles import puzzles\n",
    "# # 1. Set up the puzzle.\n",
    "# Examples\n",
    "# puzzle = Sudoku('..3.2.6..9..3.5..1..18.64....81.29..7.......8..67.82....26.95..8..2.3..9..5.1.3..') # easy (Figure 6.4.a)\n",
    "# puzzle = Sudoku('483921657967345821251876493548132976729564138136798245372689514814253769695417382') # solved (Figure 6.4.b)\n",
    "# puzzle = Sudoku('4173698.5.3..........7......2.....6.....8.4......1.......6.3.7.5..2.....1.4......') # harder (csp.py)\n",
    "# puzzle = Sudoku('1....7.9..3..2...8..96..5....53..9...1..8...26....4...3......1..4......7..7...3..') # hardest (AI Escargot)\n",
    "# puzzle =  Sudoku('4.....8.5.3..........7......2.....6.....5.4......1.......6.3.7.5..2.....1.9......')\n",
    "# print(\"Start:\")\n",
    "# puzzle.display(puzzle.infer_assignment())\n",
    "\n",
    "# Choose 50 random puzzles\n",
    "random_puzzles = random.sample(puzzles, 50)\n",
    "print(random_puzzles)\n"
   ]
  },
  {
   "cell_type": "code",
   "execution_count": 8,
   "metadata": {},
   "outputs": [],
   "source": [
    "# this function evaluates the score of a puzzle\n",
    "def evaluate_score(puzzle_str, size=9):\n",
    "    penalty_for_empty = 10\n",
    "    penalty_for_collision = 20\n",
    "    subgrid_size = int(size ** 0.5)\n",
    "\n",
    "    # Convert to list\n",
    "    puzzle = [list(puzzle_str[i * size:(i + 1) * size]) for i in range(size)]\n",
    "\n",
    "    empty_count = 0\n",
    "    collision_count = 0\n",
    "\n",
    "    # empty boxes\n",
    "    for row in puzzle:\n",
    "        for cell in row:\n",
    "            if cell == '.':\n",
    "                empty_count += 1\n",
    "\n",
    "    # rows and columns\n",
    "    for i in range(size):\n",
    "        row = set()\n",
    "        col = set()\n",
    "        for j in range(size):\n",
    "            if puzzle[i][j] != '.' and puzzle[i][j] in row:\n",
    "                collision_count += 1\n",
    "            if puzzle[j][i] != '.' and puzzle[j][i] in col:\n",
    "                collision_count += 1\n",
    "            row.add(puzzle[i][j])\n",
    "            col.add(puzzle[j][i])\n",
    "\n",
    "    # subgrids\n",
    "    for x in range(0, size, subgrid_size):\n",
    "        for y in range(0, size, subgrid_size):\n",
    "            subgrid = set()\n",
    "            for i in range(subgrid_size):\n",
    "                for j in range(subgrid_size):\n",
    "                    cell_value = puzzle[x + i][y + j]\n",
    "                    if cell_value != '.' and cell_value in subgrid:\n",
    "                        collision_count += 1\n",
    "                    subgrid.add(cell_value)\n",
    "\n",
    "    total_penalty = (empty_count * penalty_for_empty) + (collision_count * penalty_for_collision)\n",
    "    return total_penalty\n"
   ]
  },
  {
   "cell_type": "code",
   "execution_count": 10,
   "metadata": {},
   "outputs": [],
   "source": [
    "from csp import *\n",
    "from search import *\n",
    "# 2a. Solve the puzzle using search algorithms\n",
    "# result = depth_first_graph_search(puzzle)                    <- search algorithm with default parameters\n",
    "# AC3(puzzle)                                         <- constraint propagation algorithm\n",
    "# AC3b(puzzle)                                        <- constraint propagation algorithm\n",
    "# AC4(puzzle)                                         <- constraint propagation algorithm\n",
    "# result = backtracking_search(puzzle)                 <- search algorithm with default parameters\n",
    "# result = backtracking_search(puzzle,mrv,unordered_domain_values, forward_checking) <- search algorithm with heuristics and inference\n",
    "# min_conflicts(puzzle)                               <- search algorithm with default parameters\n",
    "\n",
    "\n",
    "# Define the combinations of algorithms and heuristics\n",
    "combinations = [\n",
    "    (\"deph_first_graph\",depth_first_graph_search, None),\n",
    "    (\"backtracking_search \", backtracking_search, (mrv, unordered_domain_values, forward_checking)),\n",
    "    (\"backtracking_search \",backtracking_search, None),\n",
    "    (\"min_conflicts\",min_conflicts, None)\n",
    "]\n",
    "\n",
    "puzzle = Sudoku(random_puzzles[0])\n",
    "\n",
    "results = []\n",
    "\n",
    "for puzzle_str in puzzles:\n",
    "    puzzle = Sudoku(puzzle_str)  # init\n",
    "    for algorithm_name, algorithm, heuristic in combinations:\n",
    "        execution_times = []\n",
    "        scores = []  \n",
    "        \n",
    "        for _ in range(10):  # Run at least 10 times\n",
    "            start_time = time.time()\n",
    "            if heuristic:\n",
    "                result = algorithm(puzzle, *heuristic)\n",
    "            else:\n",
    "                result = algorithm(puzzle)\n",
    "            end_time = time.time()\n",
    "            execution_times.append(end_time - start_time)\n",
    "            \n",
    "            score = evaluate_score(result) \n",
    "            scores.append(score)\n",
    "\n",
    "        avg_time = sum(execution_times) / len(execution_times)\n",
    "        avg_score = sum(scores) / len(scores)\n",
    "        results.append((puzzle_str, algorithm_name, avg_time, avg_score))\n",
    "\n",
    "\n",
    "# # 3a. Print the results.  \n",
    "# print\n",
    "# if puzzle.goal_test(puzzle.infer_assignment()):\n",
    "#     print(\"Solution:\")\n",
    "#     puzzle.display(puzzle.infer_assignment())\n",
    "# else:\n",
    "#     print(\"Failed - domains: \" + str(puzzle.curr_domains))\n",
    "#     puzzle.display(result)\n"
   ]
  },
  {
   "cell_type": "code",
   "execution_count": null,
   "metadata": {},
   "outputs": [],
   "source": [
    "# 2b. Solve a puzzle defined in sudoku_puzzles.py.\n",
    "# puzzle16x16.display(puzzle16x16.infer_assignment())\n",
    "\"\"\"######################################################################################################################\n",
    "       100x100 too large to display in notebook due to memory..if u want visuals use another environment, eg. PyCharm\n",
    "######################################################################################################################\"\"\"\n",
    "# puzzle100x100.display(puzzle100x100.infer_assignment())\n",
    "####################\n",
    "# puzzle = Sudoku(puzzles[0]) <---- create Sudoku object by calling the string at position 0 of the list\n",
    "# result = depth_first_graph_search(puzzle)\n",
    "# result = backtracking_search(puzzle,mrv,unordered_domain_values, forward_checking)\n",
    "# result = backtracking_search(puzzle)\n",
    "# result = backtracking_search(puzzle,mrv,unordered_domain_values, forward_checking)\n",
    "# min_conflicts(puzzle)\n",
    "\n",
    "# 3b. Print the results.  \n",
    "# print\n",
    "# if puzzle.goal_test(puzzle.infer_assignment()):\n",
    "#     print(\"Solution:\")\n",
    "#     puzzle.display(puzzle.infer_assignment())\n",
    "# else:\n",
    "#     print(\"Failed - domains: \" + str(puzzle.curr_domains))\n",
    "#     puzzle.display(result)\n",
    "\n",
    "# Puzzle.infer_assignment() will have solution IF search algorithm converged to a solution. \n",
    "# Result will have the latest inference of the puzzle.\n",
    "# IF depth_first_graph_search or other search algorithms from search.py are used, due to use of different objects\n",
    "# puzzle.display() will not be callable and a simple print will help you visualise the results."
   ]
  },
  {
   "cell_type": "code",
   "execution_count": null,
   "metadata": {},
   "outputs": [],
   "source": [
    "\"\"\"######################################################################################################################\n",
    "     MODIFYING CLASS OF SUDOKU FOR LARGER SIZES. Size is parameterised by value _SIZEA=4 or _SIZEB=10 in sudokuParam.py\n",
    "     classes are duplicated in essence but twitched so without deviating at all from the book source code you\n",
    "     can solve with the same script 9x9, 16x16, 100x100 puzzles\n",
    "######################################################################################################################\"\"\"\n",
    "# psource(SudokuParam)\n",
    "# psource(Sudoku100x100)"
   ]
  },
  {
   "cell_type": "code",
   "execution_count": null,
   "metadata": {},
   "outputs": [],
   "source": [
    "from numpy.random import default_rng\n",
    "choice = 1 #<- how many puzzles\n",
    "rng = default_rng() #<- set random seed to default for repetiveness\n",
    "randomSudokuList = np.sort(rng.choice(len(puzzles), size=(1,choice), replace = False)) #<- uniformely choose unique puzzles\n",
    "randomSudokuList = randomSudokuList[0] # <- unravel list\n",
    "for i in randomSudokuList: # <- iterate lists\n",
    "    puzzle = Sudoku(puzzles[i])\n",
    "    puzzle.display(puzzle.infer_assignment())"
   ]
  },
  {
   "cell_type": "code",
   "execution_count": null,
   "metadata": {},
   "outputs": [],
   "source": [
    "# define method that penalises solution in case of conflicts or empty tiles based on code in csp.py\n",
    "# it works for CPS objects and not for Node objects so will need makeover for algorithms in search.py\n",
    "def evaluateSudoku(puzzle):\n",
    "    tmp = 0\n",
    "    for i in range(len(puzzle.infer_assignment())):\n",
    "        if i in puzzle.infer_assignment():\n",
    "            tmp += puzzle.nconflicts(i, puzzle.infer_assignment()[i],puzzle.infer_assignment())\n",
    "    return tmp*20+(81-len(puzzle.infer_assignment()))*10\n",
    "\n",
    "puzzle = Sudoku(puzzles[1])\n",
    "backtracking_search(puzzle,mrv,unordered_domain_values, forward_checking)\n",
    "puzzle.display(puzzle.infer_assignment())\n",
    "print()\n",
    "print('Solution Penalty Score: ' + str(evaluateSudoku(puzzle)))"
   ]
  },
  {
   "cell_type": "code",
   "execution_count": null,
   "metadata": {},
   "outputs": [],
   "source": [
    "# Write code that iteratively calls a random selections of puzzles and evaluate their solution and their execution time.\n",
    "# experiment with inputs of backtracking_search and min_conflicts methods found in csp.py"
   ]
  },
  {
   "cell_type": "code",
   "execution_count": null,
   "metadata": {},
   "outputs": [],
   "source": []
  },
  {
   "cell_type": "code",
   "execution_count": null,
   "metadata": {},
   "outputs": [],
   "source": []
  },
  {
   "cell_type": "code",
   "execution_count": null,
   "metadata": {},
   "outputs": [],
   "source": []
  }
 ],
 "metadata": {
  "kernelspec": {
   "display_name": "Python 3",
   "language": "python",
   "name": "python3"
  },
  "language_info": {
   "codemirror_mode": {
    "name": "ipython",
    "version": 3
   },
   "file_extension": ".py",
   "mimetype": "text/x-python",
   "name": "python",
   "nbconvert_exporter": "python",
   "pygments_lexer": "ipython3",
   "version": "3.12.0"
  }
 },
 "nbformat": 4,
 "nbformat_minor": 4
}
