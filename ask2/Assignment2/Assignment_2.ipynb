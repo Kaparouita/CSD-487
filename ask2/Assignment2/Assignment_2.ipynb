{
 "cells": [
  {
   "cell_type": "markdown",
   "metadata": {},
   "source": [
    "# SUDOKU\n",
    "\n",
    "Student Number =\n",
    "\n",
    "Name ="
   ]
  },
  {
   "cell_type": "code",
   "execution_count": null,
   "metadata": {},
   "outputs": [],
   "source": [
    "from csp import *\n",
    "from search import *\n",
    "%matplotlib inline\n",
    "from notebook import *\n",
    "# Hide warnings in the matplotlib sections\n",
    "import warnings\n",
    "warnings.filterwarnings(\"ignore\")\n",
    "from sudokuParam import *\n",
    "from sudoku_puzzles import *\n",
    "# psource(Sudoku)"
   ]
  },
  {
   "cell_type": "code",
   "execution_count": null,
   "metadata": {},
   "outputs": [],
   "source": [
    "# # 1. Set up the puzzle.\n",
    "# Examples\n",
    "# puzzle = Sudoku('..3.2.6..9..3.5..1..18.64....81.29..7.......8..67.82....26.95..8..2.3..9..5.1.3..') # easy (Figure 6.4.a)\n",
    "# puzzle = Sudoku('483921657967345821251876493548132976729564138136798245372689514814253769695417382') # solved (Figure 6.4.b)\n",
    "# puzzle = Sudoku('4173698.5.3..........7......2.....6.....8.4......1.......6.3.7.5..2.....1.4......') # harder (csp.py)\n",
    "# puzzle = Sudoku('1....7.9..3..2...8..96..5....53..9...1..8...26....4...3......1..4......7..7...3..') # hardest (AI Escargot)\n",
    "# puzzle =  Sudoku('4.....8.5.3..........7......2.....6.....5.4......1.......6.3.7.5..2.....1.9......')\n",
    "# print(\"Start:\")\n",
    "# puzzle.display(puzzle.infer_assignment())"
   ]
  },
  {
   "cell_type": "code",
   "execution_count": null,
   "metadata": {},
   "outputs": [],
   "source": [
    "# 2a. Solve the puzzle using search algorithms\n",
    "# result = depth_first_graph_search(puzzle)                    <- search algorithm with default parameters\n",
    "# AC3(puzzle)                                         <- constraint propagation algorithm\n",
    "# AC3b(puzzle)                                        <- constraint propagation algorithm\n",
    "# AC4(puzzle)                                         <- constraint propagation algorithm\n",
    "# result = backtracking_search(puzzle)                 <- search algorithm with default parameters\n",
    "# result = backtracking_search(puzzle,mrv,unordered_domain_values, forward_checking) <- search algorithm with heuristics and inference\n",
    "# min_conflicts(puzzle)                               <- search algorithm with default parameters\n",
    "\n",
    "# # 3a. Print the results.  \n",
    "# print\n",
    "# if puzzle.goal_test(puzzle.infer_assignment()):\n",
    "#     print(\"Solution:\")\n",
    "#     puzzle.display(puzzle.infer_assignment())\n",
    "# else:\n",
    "#     print(\"Failed - domains: \" + str(puzzle.curr_domains))\n",
    "#     puzzle.display(result)\n"
   ]
  },
  {
   "cell_type": "code",
   "execution_count": null,
   "metadata": {},
   "outputs": [],
   "source": [
    "# 2b. Solve a puzzle defined in sudoku_puzzles.py.\n",
    "# puzzle16x16.display(puzzle16x16.infer_assignment())\n",
    "\"\"\"######################################################################################################################\n",
    "       100x100 too large to display in notebook due to memory..if u want visuals use another environment, eg. PyCharm\n",
    "######################################################################################################################\"\"\"\n",
    "# puzzle100x100.display(puzzle100x100.infer_assignment())\n",
    "####################\n",
    "# puzzle = Sudoku(puzzles[0]) <---- create Sudoku object by calling the string at position 0 of the list\n",
    "# result = depth_first_graph_search(puzzle)\n",
    "# result = backtracking_search(puzzle,mrv,unordered_domain_values, forward_checking)\n",
    "# result = backtracking_search(puzzle)\n",
    "# result = backtracking_search(puzzle,mrv,unordered_domain_values, forward_checking)\n",
    "# min_conflicts(puzzle)\n",
    "\n",
    "# 3b. Print the results.  \n",
    "# print\n",
    "# if puzzle.goal_test(puzzle.infer_assignment()):\n",
    "#     print(\"Solution:\")\n",
    "#     puzzle.display(puzzle.infer_assignment())\n",
    "# else:\n",
    "#     print(\"Failed - domains: \" + str(puzzle.curr_domains))\n",
    "#     puzzle.display(result)\n",
    "\n",
    "# Puzzle.infer_assignment() will have solution IF search algorithm converged to a solution. \n",
    "# Result will have the latest inference of the puzzle.\n",
    "# IF depth_first_graph_search or other search algorithms from search.py are used, due to use of different objects\n",
    "# puzzle.display() will not be callable and a simple print will help you visualise the results."
   ]
  },
  {
   "cell_type": "code",
   "execution_count": null,
   "metadata": {},
   "outputs": [],
   "source": [
    "\"\"\"######################################################################################################################\n",
    "     MODIFYING CLASS OF SUDOKU FOR LARGER SIZES. Size is parameterised by value _SIZEA=4 or _SIZEB=10 in sudokuParam.py\n",
    "     classes are duplicated in essence but twitched so without deviating at all from the book source code you\n",
    "     can solve with the same script 9x9, 16x16, 100x100 puzzles\n",
    "######################################################################################################################\"\"\"\n",
    "# psource(SudokuParam)\n",
    "# psource(Sudoku100x100)"
   ]
  },
  {
   "cell_type": "code",
   "execution_count": null,
   "metadata": {},
   "outputs": [],
   "source": [
    "from numpy.random import default_rng\n",
    "choice = 1 #<- how many puzzles\n",
    "rng = default_rng() #<- set random seed to default for repetiveness\n",
    "randomSudokuList = np.sort(rng.choice(len(puzzles), size=(1,choice), replace = False)) #<- uniformely choose unique puzzles\n",
    "randomSudokuList = randomSudokuList[0] # <- unravel list\n",
    "for i in randomSudokuList: # <- iterate lists\n",
    "    puzzle = Sudoku(puzzles[i])\n",
    "    puzzle.display(puzzle.infer_assignment())"
   ]
  },
  {
   "cell_type": "code",
   "execution_count": null,
   "metadata": {},
   "outputs": [],
   "source": [
    "# define method that penalises solution in case of conflicts or empty tiles based on code in csp.py\n",
    "# it works for CPS objects and not for Node objects so will need makeover for algorithms in search.py\n",
    "def evaluateSudoku(puzzle):\n",
    "    tmp = 0\n",
    "    for i in range(len(puzzle.infer_assignment())):\n",
    "        if i in puzzle.infer_assignment():\n",
    "            tmp += puzzle.nconflicts(i, puzzle.infer_assignment()[i],puzzle.infer_assignment())\n",
    "    return tmp*20+(81-len(puzzle.infer_assignment()))*10\n",
    "\n",
    "puzzle = Sudoku(puzzles[1])\n",
    "backtracking_search(puzzle,mrv,unordered_domain_values, forward_checking)\n",
    "puzzle.display(puzzle.infer_assignment())\n",
    "print()\n",
    "print('Solution Penalty Score: ' + str(evaluateSudoku(puzzle)))"
   ]
  },
  {
   "cell_type": "code",
   "execution_count": null,
   "metadata": {},
   "outputs": [],
   "source": [
    "# Write code that iteratively calls a random selections of puzzles and evaluate their solution and their execution time.\n",
    "# experiment with inputs of backtracking_search and min_conflicts methods found in csp.py"
   ]
  },
  {
   "cell_type": "code",
   "execution_count": null,
   "metadata": {},
   "outputs": [],
   "source": []
  },
  {
   "cell_type": "code",
   "execution_count": null,
   "metadata": {},
   "outputs": [],
   "source": []
  },
  {
   "cell_type": "code",
   "execution_count": null,
   "metadata": {},
   "outputs": [],
   "source": []
  }
 ],
 "metadata": {
  "kernelspec": {
   "display_name": "Python 3",
   "language": "python",
   "name": "python3"
  },
  "language_info": {
   "codemirror_mode": {
    "name": "ipython",
    "version": 3
   },
   "file_extension": ".py",
   "mimetype": "text/x-python",
   "name": "python",
   "nbconvert_exporter": "python",
   "pygments_lexer": "ipython3",
   "version": "3.8.3"
  }
 },
 "nbformat": 4,
 "nbformat_minor": 4
}
